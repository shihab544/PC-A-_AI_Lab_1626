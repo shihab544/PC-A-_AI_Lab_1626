{
  "nbformat": 4,
  "nbformat_minor": 0,
  "metadata": {
    "colab": {
      "name": "Lab Session 3.ipynb",
      "provenance": [],
      "collapsed_sections": [],
      "authorship_tag": "ABX9TyOq+/yw+KJTq0Jgfug55YSx",
      "include_colab_link": true
    },
    "kernelspec": {
      "name": "python3",
      "display_name": "Python 3"
    },
    "accelerator": "GPU"
  },
  "cells": [
    {
      "cell_type": "markdown",
      "metadata": {
        "id": "view-in-github",
        "colab_type": "text"
      },
      "source": [
        "<a href=\"https://colab.research.google.com/github/shihab544/PC-A-_AI_Lab_1626/blob/master/Lab_Session_3.ipynb\" target=\"_parent\"><img src=\"https://colab.research.google.com/assets/colab-badge.svg\" alt=\"Open In Colab\"/></a>"
      ]
    },
    {
      "cell_type": "markdown",
      "metadata": {
        "id": "LSGjb9uq-uj3"
      },
      "source": [
        "# Md.Shahabuddin\n",
        "**ID:173-15-1626;Section-PC(A)**"
      ]
    },
    {
      "cell_type": "code",
      "metadata": {
        "id": "pWvE8crX-709",
        "outputId": "5a21599d-3005-4261-d518-06413230fd24",
        "colab": {
          "base_uri": "https://localhost:8080/",
          "height": 119
        }
      },
      "source": [
        "print(\"hello,I am semi-colon.Do You miss me?\")\n",
        "print(\"Let me know if you miss me or not. \")\n",
        "s=input()\n",
        "\n",
        "a=10\n",
        "b=22\n",
        "print(max(a,b))\n",
        "print(min(a,b))\n",
        "e=\"Python\"\n",
        "print(type(e))"
      ],
      "execution_count": null,
      "outputs": [
        {
          "output_type": "stream",
          "text": [
            "hello,I am semi-colon.Do You miss me?\n",
            "Let me know if you miss me or not. \n",
            "Yes.I do.\n",
            "22\n",
            "10\n",
            "<class 'str'>\n"
          ],
          "name": "stdout"
        }
      ]
    },
    {
      "cell_type": "markdown",
      "metadata": {
        "id": "IrmWpvGd_1lz"
      },
      "source": [
        " #user defined function"
      ]
    },
    {
      "cell_type": "code",
      "metadata": {
        "id": "ILYRpHJz_f5C",
        "outputId": "7248ce70-bccf-4270-9f57-5937116995a1",
        "colab": {
          "base_uri": "https://localhost:8080/",
          "height": 68
        }
      },
      "source": [
        "def add(a, b):\n",
        "    c=a+b\n",
        "    return c\n",
        "\n",
        "a=int(input(\"Enter a number: \"))\n",
        "b=int(input(\"Enter a number: \"))\n",
        "d=add(a,b)\n",
        "print(\"The sum is\", d)"
      ],
      "execution_count": null,
      "outputs": [
        {
          "output_type": "stream",
          "text": [
            "Enter a number: 3\n",
            "Enter a number: 5\n",
            "The sum is 8\n"
          ],
          "name": "stdout"
        }
      ]
    },
    {
      "cell_type": "markdown",
      "metadata": {
        "id": "cmsVUF2RA0fD"
      },
      "source": [
        "# function with multiple parameters"
      ]
    },
    {
      "cell_type": "code",
      "metadata": {
        "id": "x-czwAGcAbGX",
        "outputId": "8f10b90f-05ae-47df-940c-47c89a9fe8a0",
        "colab": {
          "base_uri": "https://localhost:8080/",
          "height": 85
        }
      },
      "source": [
        "def divisor(x,y,m):\n",
        "    if x%m==0 and y%m==0:\n",
        "        print(\"%d & %d are divisible by %d\"%(x,y,m))\n",
        "    elif x%m==0:\n",
        "        print(\"only %d is divisible by %d\"%(x,m))\n",
        "    elif y%m==0:\n",
        "        print(\"only %d is divisible by %d\"%(y,m))\n",
        "    else:\n",
        "        print(\"none of %d & %d is divisible by %d\"%(x,y,d))\n",
        "\n",
        "divisor(10,20,5)\n",
        "divisor(12,20,5)\n",
        "divisor(10,22,5)\n",
        "divisor(2,5,3)\n",
        "\n"
      ],
      "execution_count": null,
      "outputs": [
        {
          "output_type": "stream",
          "text": [
            "10 & 20 are divisible by 5\n",
            "only 20 is divisible by 5\n",
            "only 10 is divisible by 5\n",
            "none of 2 & 5 is divisible by 8\n"
          ],
          "name": "stdout"
        }
      ]
    },
    {
      "cell_type": "markdown",
      "metadata": {
        "id": "2dtqqeElBtt2"
      },
      "source": [
        "# function without parameter"
      ]
    },
    {
      "cell_type": "code",
      "metadata": {
        "id": "RfSR-EVUBZPQ",
        "outputId": "d12f1eff-b27d-443f-e132-9499dc9ee9ad",
        "colab": {
          "base_uri": "https://localhost:8080/",
          "height": 34
        }
      },
      "source": [
        "def summation():\n",
        "  a=4+4\n",
        "  return a\n",
        "b=summation()\n",
        "print(b)"
      ],
      "execution_count": null,
      "outputs": [
        {
          "output_type": "stream",
          "text": [
            "8\n"
          ],
          "name": "stdout"
        }
      ]
    },
    {
      "cell_type": "code",
      "metadata": {
        "id": "F4rIjPdqUNm8"
      },
      "source": [
        ""
      ],
      "execution_count": null,
      "outputs": []
    },
    {
      "cell_type": "code",
      "metadata": {
        "id": "Q-iE_Va9CFOo",
        "outputId": "a4d2a382-c3f1-4bae-9e3b-a75245117014",
        "colab": {
          "base_uri": "https://localhost:8080/",
          "height": 34
        }
      },
      "source": [
        "def mul():\n",
        "  a=7*8\n",
        "  return a\n",
        "b=mul()\n",
        "print(b)"
      ],
      "execution_count": null,
      "outputs": [
        {
          "output_type": "stream",
          "text": [
            "56\n"
          ],
          "name": "stdout"
        }
      ]
    },
    {
      "cell_type": "markdown",
      "metadata": {
        "id": "SlC2WK_tDQ8p"
      },
      "source": [
        "# function with default parameter value"
      ]
    },
    {
      "cell_type": "code",
      "metadata": {
        "id": "n6_F2ScoCTqJ",
        "outputId": "97f0808a-46d0-4a58-9dfb-c6229a1cf3ae",
        "colab": {
          "base_uri": "https://localhost:8080/",
          "height": 51
        }
      },
      "source": [
        "def check(a=0):\n",
        "  if a==0:\n",
        "     print(\"Zero\")\n",
        "  elif a>0:\n",
        "     print(\"Positive\")\n",
        "  else:\n",
        "     print(\"Negative\")\n",
        "  \n",
        "check()  #without parameter \n",
        "check(9) #With parameter"
      ],
      "execution_count": null,
      "outputs": [
        {
          "output_type": "stream",
          "text": [
            "Zero\n",
            "Positive\n"
          ],
          "name": "stdout"
        }
      ]
    },
    {
      "cell_type": "code",
      "metadata": {
        "id": "7KeY9RVWD7f5",
        "outputId": "4df7423e-7934-4ea4-a186-5d996700d09e",
        "colab": {
          "base_uri": "https://localhost:8080/",
          "height": 51
        }
      },
      "source": [
        "#global scope\n",
        "\n",
        "x=20\n",
        "\n",
        "def global_scope():\n",
        "    print(x)\n",
        "\n",
        "print(x)\n",
        "global_scope()"
      ],
      "execution_count": null,
      "outputs": [
        {
          "output_type": "stream",
          "text": [
            "20\n",
            "20\n"
          ],
          "name": "stdout"
        }
      ]
    },
    {
      "cell_type": "markdown",
      "metadata": {
        "id": "dvPVSk2wEjCO"
      },
      "source": [
        "**global scope**"
      ]
    },
    {
      "cell_type": "code",
      "metadata": {
        "id": "Z-30PMqpEfgE",
        "outputId": "c137f9a8-00c3-402a-f469-bb5432b2c1e5",
        "colab": {
          "base_uri": "https://localhost:8080/",
          "height": 34
        }
      },
      "source": [
        "def global_scope():\n",
        "    global x\n",
        "    x=10\n",
        "\n",
        "global_scope()\n",
        "print(x)"
      ],
      "execution_count": null,
      "outputs": [
        {
          "output_type": "stream",
          "text": [
            "10\n"
          ],
          "name": "stdout"
        }
      ]
    },
    {
      "cell_type": "markdown",
      "metadata": {
        "id": "_H_rKby6FfRD"
      },
      "source": [
        "\n",
        "#python standard library\n",
        "#math module\n"
      ]
    },
    {
      "cell_type": "code",
      "metadata": {
        "id": "85LJdrPoFkmR",
        "outputId": "afbd05cb-69dd-41a6-dc13-9520244791e8",
        "colab": {
          "base_uri": "https://localhost:8080/",
          "height": 119
        }
      },
      "source": [
        "import math\n",
        "\n",
        "print(math.pi)          #value of pi\n",
        "\n",
        "x=9.2\n",
        "print(math.ceil(x))     #round to the smallest integer not less than x\n",
        "print(math.floor(x))    #rount to the largest integer not greater than x\n",
        "\n",
        "print(math.sin(76))     #trigonometric sine of x (x in radians)\n",
        "\n",
        "print(math.pow(4,3))    #4 to the power 3\n",
        "\n",
        "print(math.sqrt(12))    #square root of 12"
      ],
      "execution_count": null,
      "outputs": [
        {
          "output_type": "stream",
          "text": [
            "3.141592653589793\n",
            "10\n",
            "9\n",
            "0.5661076368981803\n",
            "64.0\n",
            "3.4641016151377544\n"
          ],
          "name": "stdout"
        }
      ]
    },
    {
      "cell_type": "code",
      "metadata": {
        "id": "5k0B68jSGBBJ"
      },
      "source": [
        ""
      ],
      "execution_count": null,
      "outputs": []
    }
  ]
}