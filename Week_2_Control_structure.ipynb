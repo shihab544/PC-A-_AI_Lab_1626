{
  "nbformat": 4,
  "nbformat_minor": 0,
  "metadata": {
    "colab": {
      "name": "Week_2_Control_structure.ipynb",
      "provenance": [],
      "collapsed_sections": [],
      "authorship_tag": "ABX9TyP2wnWELqeb8NxXrPT1KrYC",
      "include_colab_link": true
    },
    "kernelspec": {
      "name": "python3",
      "display_name": "Python 3"
    }
  },
  "cells": [
    {
      "cell_type": "markdown",
      "metadata": {
        "id": "view-in-github",
        "colab_type": "text"
      },
      "source": [
        "<a href=\"https://colab.research.google.com/github/shihab544/PC-A-_AI_Lab_1626/blob/master/Week_2_Control_structure.ipynb\" target=\"_parent\"><img src=\"https://colab.research.google.com/assets/colab-badge.svg\" alt=\"Open In Colab\"/></a>"
      ]
    },
    {
      "cell_type": "markdown",
      "metadata": {
        "id": "q3kHEe3bmFoq"
      },
      "source": [
        "# Md.Shahabuddin\n",
        "**ID:173-15-1626**; \n",
        "  **Section:PC(A)**"
      ]
    },
    {
      "cell_type": "markdown",
      "metadata": {
        "id": "BSxzCPrbmf89"
      },
      "source": [
        "# IF statement"
      ]
    },
    {
      "cell_type": "code",
      "metadata": {
        "id": "v4jSYXRelaX7",
        "outputId": "d18513b3-399c-4958-8d18-5d3ee104e449",
        "colab": {
          "base_uri": "https://localhost:8080/",
          "height": 34
        }
      },
      "source": [
        "grade = 90\n",
        "if grade>=70:\n",
        "  print(\"You passed\")"
      ],
      "execution_count": null,
      "outputs": [
        {
          "output_type": "stream",
          "text": [
            "You passed\n"
          ],
          "name": "stdout"
        }
      ]
    },
    {
      "cell_type": "markdown",
      "metadata": {
        "id": "eCVvG3winQmo"
      },
      "source": [
        "# IF ELSE Statement"
      ]
    },
    {
      "cell_type": "code",
      "metadata": {
        "id": "-2XFjFV3m04U",
        "outputId": "c69c62cf-1845-4bb2-b753-56de78470670",
        "colab": {
          "base_uri": "https://localhost:8080/",
          "height": 34
        }
      },
      "source": [
        "grade = 90\n",
        "if grade>=60:\n",
        "  print('You Passed')\n",
        "else:\n",
        "    print(\"I'm sorry better luck for next time\")"
      ],
      "execution_count": null,
      "outputs": [
        {
          "output_type": "stream",
          "text": [
            "You Passed\n"
          ],
          "name": "stdout"
        }
      ]
    },
    {
      "cell_type": "markdown",
      "metadata": {
        "id": "mymfPqc1oQHf"
      },
      "source": [
        "**Conditional Expression**"
      ]
    },
    {
      "cell_type": "code",
      "metadata": {
        "id": "aESUGbAHn4BJ"
      },
      "source": [
        "result = ('Passed' if grade>= 60 else 'Failed')\n"
      ],
      "execution_count": null,
      "outputs": []
    },
    {
      "cell_type": "code",
      "metadata": {
        "id": "glNLSSpaorYF",
        "outputId": "d1035bcf-58d1-4f8f-b4cd-2fb05b619742",
        "colab": {
          "base_uri": "https://localhost:8080/",
          "height": 34
        }
      },
      "source": [
        "print(result)"
      ],
      "execution_count": null,
      "outputs": [
        {
          "output_type": "stream",
          "text": [
            "Passed\n"
          ],
          "name": "stdout"
        }
      ]
    },
    {
      "cell_type": "markdown",
      "metadata": {
        "id": "8JhxhZRLpHaK"
      },
      "source": [
        "# IF...elif....else statement"
      ]
    },
    {
      "cell_type": "code",
      "metadata": {
        "id": "2TSmrUaGougB",
        "outputId": "5dfe1f04-a777-410a-9cac-ee0e80db8b01",
        "colab": {
          "base_uri": "https://localhost:8080/",
          "height": 34
        }
      },
      "source": [
        "grade = 79\n",
        "if grade >= 90:\n",
        "  print('A+')\n",
        "elif grade >= 80:\n",
        "  print('B')\n",
        "elif grade >=70:\n",
        "  print('C')\n",
        "elif grade >= 60:\n",
        "  print('D')\n",
        "else:\n",
        "  print('F')\n"
      ],
      "execution_count": null,
      "outputs": [
        {
          "output_type": "stream",
          "text": [
            "C\n"
          ],
          "name": "stdout"
        }
      ]
    },
    {
      "cell_type": "markdown",
      "metadata": {
        "id": "ftA7fEURqQUS"
      },
      "source": [
        "# While Statement"
      ]
    },
    {
      "cell_type": "code",
      "metadata": {
        "id": "7ZKIaInFpyIh",
        "outputId": "82a02def-81e5-44ad-fb0c-a12cf3eac5c1",
        "colab": {
          "base_uri": "https://localhost:8080/",
          "height": 34
        }
      },
      "source": [
        "number = 0\n",
        "while (number<=10):\n",
        "  print(number,end=\" \") #print in same line with space using end=\"\"\n",
        "  number+=1"
      ],
      "execution_count": null,
      "outputs": [
        {
          "output_type": "stream",
          "text": [
            "0 1 2 3 4 5 6 7 8 9 10 "
          ],
          "name": "stdout"
        }
      ]
    },
    {
      "cell_type": "markdown",
      "metadata": {
        "id": "A6hWbiYZrlq5"
      },
      "source": [
        "**while statement to find the first power of 3 larger than 50:**"
      ]
    },
    {
      "cell_type": "code",
      "metadata": {
        "id": "oTXDGevRqx3B"
      },
      "source": [
        "product = 3\n",
        "\n",
        "while product<=50:\n",
        "  product = product*3"
      ],
      "execution_count": null,
      "outputs": []
    },
    {
      "cell_type": "code",
      "metadata": {
        "id": "x8bqpsFYrrSQ",
        "outputId": "7087e06e-ba85-4f12-a892-4fff852fe373",
        "colab": {
          "base_uri": "https://localhost:8080/",
          "height": 34
        }
      },
      "source": [
        "print(product)"
      ],
      "execution_count": null,
      "outputs": [
        {
          "output_type": "stream",
          "text": [
            "81\n"
          ],
          "name": "stdout"
        }
      ]
    },
    {
      "cell_type": "markdown",
      "metadata": {
        "id": "7OL5kfu0sMZt"
      },
      "source": [
        "# For statement"
      ]
    },
    {
      "cell_type": "code",
      "metadata": {
        "id": "YLORZmLzrxsp",
        "outputId": "4479233c-fc3c-47bf-adc6-4e856328f1bb",
        "colab": {
          "base_uri": "https://localhost:8080/",
          "height": 34
        }
      },
      "source": [
        "for ch in \"shahabuddin\":\n",
        "  print(ch,end=\" \")"
      ],
      "execution_count": null,
      "outputs": [
        {
          "output_type": "stream",
          "text": [
            "s h a h a b u d d i n "
          ],
          "name": "stdout"
        }
      ]
    },
    {
      "cell_type": "markdown",
      "metadata": {
        "id": "Y4lZ7zPEscBA"
      },
      "source": [
        "**Built in Range Function**\n"
      ]
    },
    {
      "cell_type": "markdown",
      "metadata": {
        "id": "W8Bllod7shtw"
      },
      "source": [
        "**Let’s use a for statement and the built-in range function to iterate precisely 10 times, displaying the values from 0 through 9:**"
      ]
    },
    {
      "cell_type": "code",
      "metadata": {
        "id": "flv1vYunsaJv",
        "outputId": "31d7ee17-dc31-45d2-daa9-caa5f7c46eac",
        "colab": {
          "base_uri": "https://localhost:8080/",
          "height": 34
        }
      },
      "source": [
        "for counter in range(10):\n",
        "  print(counter,end=\" \")"
      ],
      "execution_count": null,
      "outputs": [
        {
          "output_type": "stream",
          "text": [
            "0 1 2 3 4 5 6 7 8 9 "
          ],
          "name": "stdout"
        }
      ]
    },
    {
      "cell_type": "markdown",
      "metadata": {
        "id": "8kIauBufs4oX"
      },
      "source": [
        "**Use the range function and a for statement to calculate the total of the integers from 0 through 1,000,000.**"
      ]
    },
    {
      "cell_type": "code",
      "metadata": {
        "id": "AfhavNi7td0_",
        "outputId": "c22d859b-a64c-4ea4-dd58-e3568ffe172f",
        "colab": {
          "base_uri": "https://localhost:8080/",
          "height": 34
        }
      },
      "source": [
        "total = 0\n",
        "for number in range(1000001):\n",
        "  total = total+number\n",
        "\n",
        "print(total)"
      ],
      "execution_count": null,
      "outputs": [
        {
          "output_type": "stream",
          "text": [
            "500000500000\n"
          ],
          "name": "stdout"
        }
      ]
    },
    {
      "cell_type": "markdown",
      "metadata": {
        "id": "p7F60qw5tshC"
      },
      "source": [
        "**Function range also has two- and three-argument versions. As you’ve seen, range’s one argument version produces a sequence of consecutive integers from 0 up to, but not including, the argument’s value. Function range’s two-argument version produces a sequence of consecutive integers from its first argument’s value up to, but not including, the second argument’s value, as in:**"
      ]
    },
    {
      "cell_type": "code",
      "metadata": {
        "id": "x3fk4H0Vto_v",
        "outputId": "74bf4598-6510-4aca-cd7a-a2c21de7f24b",
        "colab": {
          "base_uri": "https://localhost:8080/",
          "height": 34
        }
      },
      "source": [
        "for number in range(3,10):\n",
        "  \n",
        "  print(number,end=\" \")\n",
        "  \n",
        "  \n",
        "  \n"
      ],
      "execution_count": null,
      "outputs": [
        {
          "output_type": "stream",
          "text": [
            "3 4 5 6 7 8 9 "
          ],
          "name": "stdout"
        }
      ]
    },
    {
      "cell_type": "markdown",
      "metadata": {
        "id": "_fCKdH23vUYh"
      },
      "source": [
        "**Function range’s three-argument version produces a sequence of integers from its first argument’s value up to, but not including, the second argument’s value, incrementing by the third argument’s value, which is known as the step:**"
      ]
    },
    {
      "cell_type": "code",
      "metadata": {
        "id": "pmxK2c2yuA4_",
        "outputId": "f3695f78-c772-4c44-94f2-a2dd4199bd61",
        "colab": {
          "base_uri": "https://localhost:8080/",
          "height": 34
        }
      },
      "source": [
        "for number in range(0,10,2):\n",
        " print(number,end=\" \")"
      ],
      "execution_count": null,
      "outputs": [
        {
          "output_type": "stream",
          "text": [
            "0 2 4 6 8 "
          ],
          "name": "stdout"
        }
      ]
    },
    {
      "cell_type": "markdown",
      "metadata": {
        "id": "Md0y9LrOwBUG"
      },
      "source": [
        "**If the third argument is negative, the sequence progresses from the first argument’s value down to, but not including the second argument’s value, decrementing by the third argument’s value, as in:**"
      ]
    },
    {
      "cell_type": "code",
      "metadata": {
        "id": "PBd6KBFhvhuX",
        "outputId": "b3851bb2-91b5-44bf-c07c-d988f2ede0d2",
        "colab": {
          "base_uri": "https://localhost:8080/",
          "height": 34
        }
      },
      "source": [
        "for number in range(10,0,-2):\n",
        " print(number,end=\" \")"
      ],
      "execution_count": null,
      "outputs": [
        {
          "output_type": "stream",
          "text": [
            "10 8 6 4 2 "
          ],
          "name": "stdout"
        }
      ]
    },
    {
      "cell_type": "markdown",
      "metadata": {
        "id": "SQVa2o69wtnE"
      },
      "source": [
        "*Number table print using range function*\n",
        "\n",
        "\n",
        "---\n",
        "\n",
        "\n",
        "\n",
        "---\n",
        "\n",
        "\n",
        "\n",
        "Take an input from user and print the number table"
      ]
    },
    {
      "cell_type": "code",
      "metadata": {
        "id": "mriOK68ywTYm",
        "outputId": "52887f0e-e99d-4a6e-95ab-df3c15c5719d",
        "colab": {
          "base_uri": "https://localhost:8080/",
          "height": 34
        }
      },
      "source": [
        "number = int(input())"
      ],
      "execution_count": null,
      "outputs": [
        {
          "output_type": "stream",
          "text": [
            "10\n"
          ],
          "name": "stdout"
        }
      ]
    },
    {
      "cell_type": "code",
      "metadata": {
        "id": "HLF63qF7w7z6",
        "outputId": "cd4ec884-9b53-4b3a-8685-6e43d1ac6cb0",
        "colab": {
          "base_uri": "https://localhost:8080/",
          "height": 185
        }
      },
      "source": [
        "for i in range(1,11):\n",
        "  print(number,\"X\",i,\"=\",number*i)"
      ],
      "execution_count": null,
      "outputs": [
        {
          "output_type": "stream",
          "text": [
            "10 X 1 = 10\n",
            "10 X 2 = 20\n",
            "10 X 3 = 30\n",
            "10 X 4 = 40\n",
            "10 X 5 = 50\n",
            "10 X 6 = 60\n",
            "10 X 7 = 70\n",
            "10 X 8 = 80\n",
            "10 X 9 = 90\n",
            "10 X 10 = 100\n"
          ],
          "name": "stdout"
        }
      ]
    },
    {
      "cell_type": "markdown",
      "metadata": {
        "id": "WCHAxpRfxeiB"
      },
      "source": [
        "# Nested For Loop"
      ]
    },
    {
      "cell_type": "code",
      "metadata": {
        "id": "-4uOs0KBxZr2",
        "outputId": "3df1c87f-4206-4b3c-993b-db0438295f82",
        "colab": {
          "base_uri": "https://localhost:8080/",
          "height": 134
        }
      },
      "source": [
        "for left in range(7):\n",
        "    for right in range(left,7):\n",
        "        print(\"[\"+str(left)+\"|\"+str(right)+\"]\", end =\" \")\n",
        "    print()"
      ],
      "execution_count": null,
      "outputs": [
        {
          "output_type": "stream",
          "text": [
            "[0|0] [0|1] [0|2] [0|3] [0|4] [0|5] [0|6] \n",
            "[1|1] [1|2] [1|3] [1|4] [1|5] [1|6] \n",
            "[2|2] [2|3] [2|4] [2|5] [2|6] \n",
            "[3|3] [3|4] [3|5] [3|6] \n",
            "[4|4] [4|5] [4|6] \n",
            "[5|5] [5|6] \n",
            "[6|6] \n"
          ],
          "name": "stdout"
        }
      ]
    },
    {
      "cell_type": "markdown",
      "metadata": {
        "id": "qI-RN2DIxzxk"
      },
      "source": [
        "# Break statement"
      ]
    },
    {
      "cell_type": "code",
      "metadata": {
        "id": "H6zXSnPaxuk-",
        "outputId": "d944bc4b-0539-4722-ffa1-57cae05fbe56",
        "colab": {
          "base_uri": "https://localhost:8080/",
          "height": 34
        }
      },
      "source": [
        "for number in range(10):\n",
        "  if number == 5:\n",
        "    break\n",
        "  print(number, end=\" \")"
      ],
      "execution_count": null,
      "outputs": [
        {
          "output_type": "stream",
          "text": [
            "0 1 2 3 4 "
          ],
          "name": "stdout"
        }
      ]
    },
    {
      "cell_type": "markdown",
      "metadata": {
        "id": "WvdqBhruyKB1"
      },
      "source": [
        "# Continue"
      ]
    },
    {
      "cell_type": "code",
      "metadata": {
        "id": "QfKVQZnJyHtV",
        "outputId": "ae86d0c2-a0fb-4b71-c24b-3c91dc268797",
        "colab": {
          "base_uri": "https://localhost:8080/",
          "height": 34
        }
      },
      "source": [
        "for number in range(10):\n",
        "  if number==5:\n",
        "    continue\n",
        "  print(number,end=\" \")"
      ],
      "execution_count": null,
      "outputs": [
        {
          "output_type": "stream",
          "text": [
            "0 1 2 3 4 6 7 8 9 "
          ],
          "name": "stdout"
        }
      ]
    },
    {
      "cell_type": "markdown",
      "metadata": {
        "id": "izzy0YPcyorO"
      },
      "source": [
        "# Beginner Problem solving from Uri Online Judge\n",
        "**Uri Online Judge**\n"
      ]
    },
    {
      "cell_type": "markdown",
      "metadata": {
        "id": "J-ljsna7y4V7"
      },
      "source": [
        "**1.Extremely Basic**"
      ]
    },
    {
      "cell_type": "code",
      "metadata": {
        "id": "_2EmOAkQyYLF",
        "outputId": "4f3bec7a-92d3-43e1-bbf5-b31e8f702dc7",
        "colab": {
          "base_uri": "https://localhost:8080/",
          "height": 67
        }
      },
      "source": [
        "number = int(input())\n",
        "number2 = int(input())\n",
        "total = number+number2\n",
        "print(\"X\"\" \"\"=\"\"\",total)"
      ],
      "execution_count": null,
      "outputs": [
        {
          "output_type": "stream",
          "text": [
            "10\n",
            "9\n",
            "X = 19\n"
          ],
          "name": "stdout"
        }
      ]
    },
    {
      "cell_type": "markdown",
      "metadata": {
        "id": "wQz43jj81KF8"
      },
      "source": [
        "**2.Area of a Circle**"
      ]
    },
    {
      "cell_type": "code",
      "metadata": {
        "id": "hUzyyXvqzjPg",
        "outputId": "a9bad3d1-2611-441e-fb29-7258f787e258",
        "colab": {
          "base_uri": "https://localhost:8080/",
          "height": 50
        }
      },
      "source": [
        "R = float(input())\n",
        "n = 3.14159\n",
        "area =n*(R*R)\n",
        "print(\"A=\",'%.4f'%area)"
      ],
      "execution_count": null,
      "outputs": [
        {
          "output_type": "stream",
          "text": [
            "100.64\n",
            "A= 31819.3103\n"
          ],
          "name": "stdout"
        }
      ]
    },
    {
      "cell_type": "markdown",
      "metadata": {
        "id": "2fmgyZi4756b"
      },
      "source": [
        "**Difference**"
      ]
    },
    {
      "cell_type": "code",
      "metadata": {
        "id": "Zb5Sk5Kd2bIn",
        "outputId": "8c419e22-e2c0-4a6f-ed68-fea77ca358b6",
        "colab": {
          "base_uri": "https://localhost:8080/",
          "height": 101
        }
      },
      "source": [
        "A = int(input())\n",
        "B = int(input())\n",
        "C = int(input())\n",
        "D = int(input())\n",
        "sk = ((A*B)-(C*D))\n",
        "print(\"DIFERENCA =\",sk)\n"
      ],
      "execution_count": null,
      "outputs": [
        {
          "output_type": "stream",
          "text": [
            "5\n",
            "6\n",
            "7\n",
            "8\n",
            "DIFERENCA = -26\n"
          ],
          "name": "stdout"
        }
      ]
    },
    {
      "cell_type": "markdown",
      "metadata": {
        "id": "f41fhI2N_1L_"
      },
      "source": [
        "**Age in Days**"
      ]
    },
    {
      "cell_type": "code",
      "metadata": {
        "id": "m0QIlAfX-Egs",
        "outputId": "bd7119d2-37cf-48df-b491-7e76054d1051",
        "colab": {
          "base_uri": "https://localhost:8080/",
          "height": 84
        }
      },
      "source": [
        "A = int(input())\n",
        "Y = int(A/365)\n",
        "A = int(A%365)\n",
        "M = int(A/30)\n",
        "A = A%30\n",
        "print(\"%d ano(s)\"%Y)\n",
        "print(\"%d mes(es)\"%M)\n",
        "print(\"%d dia(s)\"%D)\n"
      ],
      "execution_count": null,
      "outputs": [
        {
          "output_type": "stream",
          "text": [
            "400\n",
            "1 ano(s)\n",
            "1 mes(es)\n",
            "5 dia(s)\n"
          ],
          "name": "stdout"
        }
      ]
    },
    {
      "cell_type": "code",
      "metadata": {
        "id": "1t34-YcaBSS6"
      },
      "source": [
        ""
      ],
      "execution_count": null,
      "outputs": []
    }
  ]
}