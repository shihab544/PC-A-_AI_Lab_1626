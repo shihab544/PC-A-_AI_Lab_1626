{
  "nbformat": 4,
  "nbformat_minor": 0,
  "metadata": {
    "colab": {
      "name": "Week_1_Introduction__to_Python_Lab.ipynb",
      "provenance": [],
      "collapsed_sections": [
        "_iTRWLM6xqzH",
        "S3pdkDC3y-LZ",
        "WMw28M33zyjo",
        "6gVTJquO7fMB",
        "ewVFnXvc8r6Q",
        "jfz1sYOM9FhM",
        "MGpxrASu-GSp",
        "6cIV0hWoANrU",
        "2ga-H7edCHWn",
        "CTZT6XP4E1Xy",
        "DuCBb1QLGr9w"
      ],
      "authorship_tag": "ABX9TyMs2XRi93U5JBfjq1bcZP40",
      "include_colab_link": true
    },
    "kernelspec": {
      "name": "python3",
      "display_name": "Python 3"
    },
    "accelerator": "GPU"
  },
  "cells": [
    {
      "cell_type": "markdown",
      "metadata": {
        "id": "view-in-github",
        "colab_type": "text"
      },
      "source": [
        "<a href=\"https://colab.research.google.com/github/shihab544/PC-A-_AI_Lab_1626/blob/master/Week_1_Introduction__to_Python_Lab.ipynb\" target=\"_parent\"><img src=\"https://colab.research.google.com/assets/colab-badge.svg\" alt=\"Open In Colab\"/></a>"
      ]
    },
    {
      "cell_type": "markdown",
      "metadata": {
        "id": "Ax-M3wEolTyd"
      },
      "source": [
        "# MD.Shahabuddin\n",
        "**ID:173-15-1626**\n",
        ";**Section:PC-(A)**"
      ]
    },
    {
      "cell_type": "markdown",
      "metadata": {
        "id": "_U3DhSrglnZW"
      },
      "source": [
        "# My First Python Program \"Print Hello World\""
      ]
    },
    {
      "cell_type": "code",
      "metadata": {
        "id": "iNW6BYp9l0qf",
        "outputId": "fb7f06a8-ecc1-4ab1-e7fc-8fbbadea4504",
        "colab": {
          "base_uri": "https://localhost:8080/",
          "height": 34
        }
      },
      "source": [
        "print(\"Hello World\");"
      ],
      "execution_count": null,
      "outputs": [
        {
          "output_type": "stream",
          "text": [
            "Hello World\n"
          ],
          "name": "stdout"
        }
      ]
    },
    {
      "cell_type": "markdown",
      "metadata": {
        "id": "s2Lmh5brmAxY"
      },
      "source": [
        "# Variables and Assignment Statement"
      ]
    },
    {
      "cell_type": "code",
      "metadata": {
        "id": "cFIvc5n0mPtN",
        "outputId": "430c4663-99f3-4b2e-83f4-ecc0febbbe6f",
        "colab": {
          "base_uri": "https://localhost:8080/",
          "height": 34
        }
      },
      "source": [
        "x=6\n",
        "y=7\n",
        "print(x+y)"
      ],
      "execution_count": null,
      "outputs": [
        {
          "output_type": "stream",
          "text": [
            "13\n"
          ],
          "name": "stdout"
        }
      ]
    },
    {
      "cell_type": "code",
      "metadata": {
        "id": "jlVtl7npnTVy",
        "outputId": "2dae657c-73af-4878-a27c-fa883bf1a8ec",
        "colab": {
          "base_uri": "https://localhost:8080/",
          "height": 34
        }
      },
      "source": [
        "total = x+y\n",
        "print(total);"
      ],
      "execution_count": null,
      "outputs": [
        {
          "output_type": "stream",
          "text": [
            "13\n"
          ],
          "name": "stdout"
        }
      ]
    },
    {
      "cell_type": "code",
      "metadata": {
        "id": "t9-acytEni_V",
        "outputId": "beba7cb7-081b-4dc5-d91a-e33b73d53537",
        "colab": {
          "base_uri": "https://localhost:8080/",
          "height": 34
        }
      },
      "source": [
        "name = \"Shahabuddin\"\n",
        "name2 = \"shihab\"\n",
        "print(name,name2);\n"
      ],
      "execution_count": null,
      "outputs": [
        {
          "output_type": "stream",
          "text": [
            "Shahabuddin shihab\n"
          ],
          "name": "stdout"
        }
      ]
    },
    {
      "cell_type": "markdown",
      "metadata": {
        "id": "yDCFElsdpKyb"
      },
      "source": [
        "# Types"
      ]
    },
    {
      "cell_type": "code",
      "metadata": {
        "id": "q7mwBbUJpOJ2",
        "outputId": "c1a8b1fb-c7cc-49b4-b3fd-54f25320632d",
        "colab": {
          "base_uri": "https://localhost:8080/",
          "height": 34
        }
      },
      "source": [
        "x = 5\n",
        "type(x)"
      ],
      "execution_count": null,
      "outputs": [
        {
          "output_type": "execute_result",
          "data": {
            "text/plain": [
              "int"
            ]
          },
          "metadata": {
            "tags": []
          },
          "execution_count": 33
        }
      ]
    },
    {
      "cell_type": "code",
      "metadata": {
        "id": "lyuw2f-qpVQP",
        "outputId": "9f078864-0782-42db-aa5c-b1775cbf419e",
        "colab": {
          "base_uri": "https://localhost:8080/",
          "height": 34
        }
      },
      "source": [
        "type(5.5)"
      ],
      "execution_count": null,
      "outputs": [
        {
          "output_type": "execute_result",
          "data": {
            "text/plain": [
              "float"
            ]
          },
          "metadata": {
            "tags": []
          },
          "execution_count": 34
        }
      ]
    },
    {
      "cell_type": "code",
      "metadata": {
        "id": "2tgCRaoTphok",
        "outputId": "431726b9-6bd0-4516-b77b-51b7c7790196",
        "colab": {
          "base_uri": "https://localhost:8080/",
          "height": 34
        }
      },
      "source": [
        "type(name)"
      ],
      "execution_count": null,
      "outputs": [
        {
          "output_type": "execute_result",
          "data": {
            "text/plain": [
              "str"
            ]
          },
          "metadata": {
            "tags": []
          },
          "execution_count": 22
        }
      ]
    },
    {
      "cell_type": "markdown",
      "metadata": {
        "id": "mEJ3h6Y0sV8l"
      },
      "source": [
        "# Arithmetic operators"
      ]
    },
    {
      "cell_type": "code",
      "metadata": {
        "id": "HCloXbsesY9Y",
        "outputId": "b35c3ddb-50a8-47e6-9705-e62f28cb6ccf",
        "colab": {
          "base_uri": "https://localhost:8080/",
          "height": 34
        }
      },
      "source": [
        " multiplication = 9*9\n",
        " print(multiplication)"
      ],
      "execution_count": null,
      "outputs": [
        {
          "output_type": "stream",
          "text": [
            "81\n"
          ],
          "name": "stdout"
        }
      ]
    },
    {
      "cell_type": "code",
      "metadata": {
        "id": "6_kJtFEiwJoc",
        "outputId": "4796f315-4e0c-4fc4-d116-9656317061dc",
        "colab": {
          "base_uri": "https://localhost:8080/",
          "height": 34
        }
      },
      "source": [
        "add = 5+5\n",
        "print(add)"
      ],
      "execution_count": null,
      "outputs": [
        {
          "output_type": "stream",
          "text": [
            "10\n"
          ],
          "name": "stdout"
        }
      ]
    },
    {
      "cell_type": "code",
      "metadata": {
        "id": "TIYTfkbJwPR1",
        "outputId": "f5737969-2af9-4d3f-f1e9-0297321926e3",
        "colab": {
          "base_uri": "https://localhost:8080/",
          "height": 34
        }
      },
      "source": [
        "sub = 70-18\n",
        "print(sub)"
      ],
      "execution_count": null,
      "outputs": [
        {
          "output_type": "stream",
          "text": [
            "52\n"
          ],
          "name": "stdout"
        }
      ]
    },
    {
      "cell_type": "code",
      "metadata": {
        "id": "BRM8VssXwUoT",
        "outputId": "948990b8-d2f9-4b54-f14e-c9dff27cb384",
        "colab": {
          "base_uri": "https://localhost:8080/",
          "height": 34
        }
      },
      "source": [
        "Exponentiation = 3**3\n",
        "print(Exponentiation)"
      ],
      "execution_count": null,
      "outputs": [
        {
          "output_type": "stream",
          "text": [
            "27\n"
          ],
          "name": "stdout"
        }
      ]
    },
    {
      "cell_type": "markdown",
      "metadata": {
        "id": "pVfn95D6w4Y5"
      },
      "source": [
        "**True Division (/) vs. Floor Division (//)**"
      ]
    },
    {
      "cell_type": "code",
      "metadata": {
        "id": "0pmr_RIaw8IB",
        "outputId": "4594d6ae-233c-45dc-fec3-23ea4ae43188",
        "colab": {
          "base_uri": "https://localhost:8080/",
          "height": 34
        }
      },
      "source": [
        "true_division = 10/3\n",
        "print(true_division)"
      ],
      "execution_count": null,
      "outputs": [
        {
          "output_type": "stream",
          "text": [
            "3.3333333333333335\n"
          ],
          "name": "stdout"
        }
      ]
    },
    {
      "cell_type": "code",
      "metadata": {
        "id": "KOeFcsWXxF6v",
        "outputId": "583a8f1e-4604-460c-e26f-7b21e44a7c5c",
        "colab": {
          "base_uri": "https://localhost:8080/",
          "height": 34
        }
      },
      "source": [
        "floor_division = 10//3\n",
        "print(floor_division)"
      ],
      "execution_count": null,
      "outputs": [
        {
          "output_type": "stream",
          "text": [
            "3\n"
          ],
          "name": "stdout"
        }
      ]
    },
    {
      "cell_type": "code",
      "metadata": {
        "id": "RR0350UHxaiL",
        "outputId": "7ef15bb3-0f4a-4e3b-f511-62ca09781db9",
        "colab": {
          "base_uri": "https://localhost:8080/",
          "height": 34
        }
      },
      "source": [
        "remainder = 11%5\n",
        "print(remainder)"
      ],
      "execution_count": null,
      "outputs": [
        {
          "output_type": "stream",
          "text": [
            "1\n"
          ],
          "name": "stdout"
        }
      ]
    },
    {
      "cell_type": "markdown",
      "metadata": {
        "id": "_iTRWLM6xqzH"
      },
      "source": [
        "# Relational Operators "
      ]
    },
    {
      "cell_type": "code",
      "metadata": {
        "id": "eAWBxQlxyPd0",
        "outputId": "711e9e6a-0035-426f-da02-000dcc8b1923",
        "colab": {
          "base_uri": "https://localhost:8080/",
          "height": 34
        }
      },
      "source": [
        "x = 20\n",
        "y = 15\n",
        "x>y"
      ],
      "execution_count": null,
      "outputs": [
        {
          "output_type": "execute_result",
          "data": {
            "text/plain": [
              "True"
            ]
          },
          "metadata": {
            "tags": []
          },
          "execution_count": 3
        }
      ]
    },
    {
      "cell_type": "code",
      "metadata": {
        "id": "iZTk3dAmyWqz",
        "outputId": "2f3ee2dc-960c-476d-ba90-e00d52b4e465",
        "colab": {
          "base_uri": "https://localhost:8080/",
          "height": 34
        }
      },
      "source": [
        "x<y"
      ],
      "execution_count": null,
      "outputs": [
        {
          "output_type": "execute_result",
          "data": {
            "text/plain": [
              "False"
            ]
          },
          "metadata": {
            "tags": []
          },
          "execution_count": 5
        }
      ]
    },
    {
      "cell_type": "code",
      "metadata": {
        "id": "P21TI5rKyr4z",
        "outputId": "2f2b3663-914a-402e-ea56-8e5350264ae8",
        "colab": {
          "base_uri": "https://localhost:8080/",
          "height": 34
        }
      },
      "source": [
        "x==y"
      ],
      "execution_count": null,
      "outputs": [
        {
          "output_type": "execute_result",
          "data": {
            "text/plain": [
              "False"
            ]
          },
          "metadata": {
            "tags": []
          },
          "execution_count": 6
        }
      ]
    },
    {
      "cell_type": "code",
      "metadata": {
        "id": "KjTVzC1VyuKh",
        "outputId": "91ae1a00-6718-42da-c76f-227921a596c5",
        "colab": {
          "base_uri": "https://localhost:8080/",
          "height": 34
        }
      },
      "source": [
        "x!=y"
      ],
      "execution_count": null,
      "outputs": [
        {
          "output_type": "execute_result",
          "data": {
            "text/plain": [
              "True"
            ]
          },
          "metadata": {
            "tags": []
          },
          "execution_count": 7
        }
      ]
    },
    {
      "cell_type": "code",
      "metadata": {
        "id": "LK9Q4qPjyw5x",
        "outputId": "d71649c6-afac-4370-f1c8-5bf1a906a262",
        "colab": {
          "base_uri": "https://localhost:8080/",
          "height": 34
        }
      },
      "source": [
        "x>=y"
      ],
      "execution_count": null,
      "outputs": [
        {
          "output_type": "execute_result",
          "data": {
            "text/plain": [
              "True"
            ]
          },
          "metadata": {
            "tags": []
          },
          "execution_count": 8
        }
      ]
    },
    {
      "cell_type": "code",
      "metadata": {
        "id": "UctjodeTy0Yq",
        "outputId": "fefd7378-1a42-48bc-f9fc-3a3485d42020",
        "colab": {
          "base_uri": "https://localhost:8080/",
          "height": 34
        }
      },
      "source": [
        "x<=y"
      ],
      "execution_count": null,
      "outputs": [
        {
          "output_type": "execute_result",
          "data": {
            "text/plain": [
              "False"
            ]
          },
          "metadata": {
            "tags": []
          },
          "execution_count": 9
        }
      ]
    },
    {
      "cell_type": "markdown",
      "metadata": {
        "id": "S3pdkDC3y-LZ"
      },
      "source": [
        "# Chaining Comparisons\n"
      ]
    },
    {
      "cell_type": "code",
      "metadata": {
        "id": "n78nApOWzBBI"
      },
      "source": [
        "x = 3\n",
        "y = 10"
      ],
      "execution_count": null,
      "outputs": []
    },
    {
      "cell_type": "code",
      "metadata": {
        "id": "ejsg3APdzG2Q",
        "outputId": "0cd9918d-7fbd-416d-f99f-b6fd7f9fe9ea",
        "colab": {
          "base_uri": "https://localhost:8080/",
          "height": 34
        }
      },
      "source": [
        "1 <= x <= 7"
      ],
      "execution_count": null,
      "outputs": [
        {
          "output_type": "execute_result",
          "data": {
            "text/plain": [
              "True"
            ]
          },
          "metadata": {
            "tags": []
          },
          "execution_count": 16
        }
      ]
    },
    {
      "cell_type": "code",
      "metadata": {
        "id": "3qVh5HtWzNEa",
        "outputId": "3500fb59-a2fa-4fcf-d72d-19ef253c7985",
        "colab": {
          "base_uri": "https://localhost:8080/",
          "height": 34
        }
      },
      "source": [
        "1 <= y <= 7"
      ],
      "execution_count": null,
      "outputs": [
        {
          "output_type": "execute_result",
          "data": {
            "text/plain": [
              "False"
            ]
          },
          "metadata": {
            "tags": []
          },
          "execution_count": 17
        }
      ]
    },
    {
      "cell_type": "markdown",
      "metadata": {
        "id": "WMw28M33zyjo"
      },
      "source": [
        "# Print Function"
      ]
    },
    {
      "cell_type": "markdown",
      "metadata": {
        "id": "vWLkFl20z1f4"
      },
      "source": [
        "**Printing a Comma-Separated List of Items**"
      ]
    },
    {
      "cell_type": "code",
      "metadata": {
        "id": "B4ok8F0sz9ch",
        "outputId": "20b35ae7-a9f2-4617-f1d4-031aeb488615",
        "colab": {
          "base_uri": "https://localhost:8080/",
          "height": 34
        }
      },
      "source": [
        "print('Welcome','to','python!')"
      ],
      "execution_count": null,
      "outputs": [
        {
          "output_type": "stream",
          "text": [
            "Welcome to python!\n"
          ],
          "name": "stdout"
        }
      ]
    },
    {
      "cell_type": "markdown",
      "metadata": {
        "id": "Po0JwY7f0SnR"
      },
      "source": [
        "**Printing Many Lines of Text with One Statement also new line**"
      ]
    },
    {
      "cell_type": "code",
      "metadata": {
        "id": "hrxYaxEq0YUB",
        "outputId": "350e32b6-54d3-4426-9a1e-b2e124edcd61",
        "colab": {
          "base_uri": "https://localhost:8080/",
          "height": 84
        }
      },
      "source": [
        "print('Hello\\nShihab\\n\\nRight Now i am doing AI lab!!')"
      ],
      "execution_count": null,
      "outputs": [
        {
          "output_type": "stream",
          "text": [
            "Hello\n",
            "Shihab\n",
            "\n",
            "Right Now i am doing AI lab!!\n"
          ],
          "name": "stdout"
        }
      ]
    },
    {
      "cell_type": "markdown",
      "metadata": {
        "id": "rdpfVkoS1JPT"
      },
      "source": [
        "**Ignoring a Line Break in a Long String**"
      ]
    },
    {
      "cell_type": "code",
      "metadata": {
        "id": "1kMllLEH0yIU",
        "outputId": "6ad44d0f-1bc1-454f-a452-44f649f71613",
        "colab": {
          "base_uri": "https://localhost:8080/",
          "height": 34
        }
      },
      "source": [
        "print('This is a longer string, so we \\\n",
        " split it over two lines')"
      ],
      "execution_count": null,
      "outputs": [
        {
          "output_type": "stream",
          "text": [
            "this is a longer string, so we  split it over two lines\n"
          ],
          "name": "stdout"
        }
      ]
    },
    {
      "cell_type": "markdown",
      "metadata": {
        "id": "JYCBAktH1r17"
      },
      "source": [
        "**Printing the Value of an Expression**"
      ]
    },
    {
      "cell_type": "code",
      "metadata": {
        "id": "n2lvhkzu1arQ",
        "outputId": "4bd37fae-ead7-443e-f478-b996a3162565",
        "colab": {
          "base_uri": "https://localhost:8080/",
          "height": 34
        }
      },
      "source": [
        "print('sum is',10+5)"
      ],
      "execution_count": null,
      "outputs": [
        {
          "output_type": "stream",
          "text": [
            "sum is 15\n"
          ],
          "name": "stdout"
        }
      ]
    },
    {
      "cell_type": "markdown",
      "metadata": {
        "id": "2QQgyHI92HjW"
      },
      "source": [
        "What does the following print statement display?\n",
        "\n",
        "**print('int(5.2)', 'truncates 5.2 to', int(5.2))**"
      ]
    },
    {
      "cell_type": "code",
      "metadata": {
        "id": "L9xd9Mv42MN1",
        "outputId": "4d7c1cc4-c4a0-4872-8a16-4cee73ab96a0",
        "colab": {
          "base_uri": "https://localhost:8080/",
          "height": 34
        }
      },
      "source": [
        "print('int(5.2)','truncates(5.2)to',int(5.5))"
      ],
      "execution_count": null,
      "outputs": [
        {
          "output_type": "stream",
          "text": [
            "int(5.2) truncates(5.2)to 5\n"
          ],
          "name": "stdout"
        }
      ]
    },
    {
      "cell_type": "markdown",
      "metadata": {
        "id": "6gVTJquO7fMB"
      },
      "source": [
        "# Including Quotes in Strings"
      ]
    },
    {
      "cell_type": "code",
      "metadata": {
        "id": "XxEBEkHW7hAw",
        "outputId": "c356b198-0e5d-4485-f37e-d1f8a22a745b",
        "colab": {
          "base_uri": "https://localhost:8080/",
          "height": 34
        }
      },
      "source": [
        "print('Disply \"shihab\" in quotes')"
      ],
      "execution_count": null,
      "outputs": [
        {
          "output_type": "stream",
          "text": [
            "Disply \"shihab\" in quotes\n"
          ],
          "name": "stdout"
        }
      ]
    },
    {
      "cell_type": "code",
      "metadata": {
        "id": "WzFnRUFk7tkq",
        "outputId": "4abdcb9b-7be6-40f1-b6e2-8100a2e0aa7a",
        "colab": {
          "base_uri": "https://localhost:8080/",
          "height": 34
        }
      },
      "source": [
        "print('Disply \\'shihab\\' in quptes')  #using \\' escape sequence;"
      ],
      "execution_count": null,
      "outputs": [
        {
          "output_type": "stream",
          "text": [
            "Disply 'shihab' in quptes\n"
          ],
          "name": "stdout"
        }
      ]
    },
    {
      "cell_type": "code",
      "metadata": {
        "id": "Wog8PxCE78ds",
        "outputId": "adb61bf2-7303-42bc-82ff-137b692e1105",
        "colab": {
          "base_uri": "https://localhost:8080/",
          "height": 34
        }
      },
      "source": [
        "print(\"Disply the name O'Shihab\")"
      ],
      "execution_count": null,
      "outputs": [
        {
          "output_type": "stream",
          "text": [
            "Disply the name O'Shihab\n"
          ],
          "name": "stdout"
        }
      ]
    },
    {
      "cell_type": "code",
      "metadata": {
        "id": "nK44iXAx8b0x",
        "outputId": "c8c67e1d-2de8-4f73-b622-103b543b39b6",
        "colab": {
          "base_uri": "https://localhost:8080/",
          "height": 34
        }
      },
      "source": [
        "print(\"Display \\\"shihab\\\" in quotes\")"
      ],
      "execution_count": null,
      "outputs": [
        {
          "output_type": "stream",
          "text": [
            "Display \"shihab\" in quotes\n"
          ],
          "name": "stdout"
        }
      ]
    },
    {
      "cell_type": "markdown",
      "metadata": {
        "id": "ewVFnXvc8r6Q"
      },
      "source": [
        "# To avoid using ' and \" inside strings, you can enclose such strings in triple quotes:"
      ]
    },
    {
      "cell_type": "code",
      "metadata": {
        "id": "lV_RLIsO8ldx",
        "outputId": "c406485b-8a6d-4c5f-d819-e04f8e011959",
        "colab": {
          "base_uri": "https://localhost:8080/",
          "height": 34
        }
      },
      "source": [
        "print(\"\"\"Display \"shihab\" are you 'okay!'\"\"\")"
      ],
      "execution_count": null,
      "outputs": [
        {
          "output_type": "stream",
          "text": [
            "Display \"shihab\" are you 'okay!'\n"
          ],
          "name": "stdout"
        }
      ]
    },
    {
      "cell_type": "markdown",
      "metadata": {
        "id": "jfz1sYOM9FhM"
      },
      "source": [
        "# Multiline Strings"
      ]
    },
    {
      "cell_type": "code",
      "metadata": {
        "id": "MFr1RR0387mB"
      },
      "source": [
        "triple_quotes_strings = \"\"\"This is triple line-quotes\n",
        "string and i am 'shihab' from \"Brahmanbaraia\" hmm\"\"\"\n"
      ],
      "execution_count": null,
      "outputs": []
    },
    {
      "cell_type": "code",
      "metadata": {
        "id": "Btuqigut9gTY",
        "outputId": "d0282de2-78b6-4cf8-b314-f16e2e07a5c9",
        "colab": {
          "base_uri": "https://localhost:8080/",
          "height": 50
        }
      },
      "source": [
        "print(triple_quotes_strings)"
      ],
      "execution_count": null,
      "outputs": [
        {
          "output_type": "stream",
          "text": [
            "This is triple line-quotes\n",
            "string and i am 'shihab' from \"Brahmanbaraia\" hmm\n"
          ],
          "name": "stdout"
        }
      ]
    },
    {
      "cell_type": "code",
      "metadata": {
        "id": "csVfhyV39oCF",
        "outputId": "0c39ebfe-2462-41e4-e585-ab5f750c7a07",
        "colab": {
          "base_uri": "https://localhost:8080/",
          "height": 67
        }
      },
      "source": [
        "print(\"\"\"This is a lengthy\n",
        "multiline string containing\n",
        "a few lines \\\n",
        "of text\"\"\")"
      ],
      "execution_count": null,
      "outputs": [
        {
          "output_type": "stream",
          "text": [
            "This is a lengthy\n",
            "multiline string containing\n",
            "a few lines of text\n"
          ],
          "name": "stdout"
        }
      ]
    },
    {
      "cell_type": "markdown",
      "metadata": {
        "id": "MGpxrASu-GSp"
      },
      "source": [
        "# Precision Handling in Python"
      ]
    },
    {
      "cell_type": "code",
      "metadata": {
        "id": "7paL8WRF9-di"
      },
      "source": [
        "a = 3.345675433\n"
      ],
      "execution_count": null,
      "outputs": []
    },
    {
      "cell_type": "code",
      "metadata": {
        "id": "HV1UmFys-O8L",
        "outputId": "275c5e2f-9374-406d-f3a3-e58496c4067b",
        "colab": {
          "base_uri": "https://localhost:8080/",
          "height": 34
        }
      },
      "source": [
        "#uising \"%\" to print value till 2 decimal placse\n",
        "print(\"The Value of Number till 2 decimal placse(using %) is :\",end=\"\")\n",
        "print('%.2f' %a)"
      ],
      "execution_count": null,
      "outputs": [
        {
          "output_type": "stream",
          "text": [
            "The Value of Number till 2 decimal pleace(using %) is :3.35\n"
          ],
          "name": "stdout"
        }
      ]
    },
    {
      "cell_type": "code",
      "metadata": {
        "id": "-XzdOfOZ-7vK",
        "outputId": "10d9be47-b826-4613-de29-21cffb442dfb",
        "colab": {
          "base_uri": "https://localhost:8080/",
          "height": 34
        }
      },
      "source": [
        "#using \"%\" to print value till 4 decimal placse \n",
        "print(\"The value of number till 4 decimal placse(using %) :\",end=\"\")\n",
        "print('%.4f'%a)"
      ],
      "execution_count": null,
      "outputs": [
        {
          "output_type": "stream",
          "text": [
            "The value of number till 4 decimal placse(using %) :3.3457\n"
          ],
          "name": "stdout"
        }
      ]
    },
    {
      "cell_type": "markdown",
      "metadata": {
        "id": "6cIV0hWoANrU"
      },
      "source": [
        "# Getting Input from the User"
      ]
    },
    {
      "cell_type": "code",
      "metadata": {
        "id": "9i7m1ugU_9Ei",
        "outputId": "8ae46411-09a3-4008-c3a5-ff2322dc15e8",
        "colab": {
          "base_uri": "https://localhost:8080/",
          "height": 34
        }
      },
      "source": [
        "name = input(\"What's your Name?? \")"
      ],
      "execution_count": null,
      "outputs": [
        {
          "output_type": "stream",
          "text": [
            "What's your Name?? shihab\n"
          ],
          "name": "stdout"
        }
      ]
    },
    {
      "cell_type": "code",
      "metadata": {
        "id": "16mo9aRFAnrC",
        "outputId": "bbcf2cb3-ae15-45a1-8be6-4a04c382dc9b",
        "colab": {
          "base_uri": "https://localhost:8080/",
          "height": 34
        }
      },
      "source": [
        "print(name)"
      ],
      "execution_count": null,
      "outputs": [
        {
          "output_type": "stream",
          "text": [
            "shihab\n"
          ],
          "name": "stdout"
        }
      ]
    },
    {
      "cell_type": "code",
      "metadata": {
        "id": "0Di1jb_pApii",
        "outputId": "25cf7795-ab22-463a-cfac-a05b6dd1653b",
        "colab": {
          "base_uri": "https://localhost:8080/",
          "height": 50
        }
      },
      "source": [
        "num1 = input('Please Enter First Number: ')\n",
        "num2  = input('Please Enter Second Number: ')"
      ],
      "execution_count": null,
      "outputs": [
        {
          "output_type": "stream",
          "text": [
            "Please Enter First Number: 20\n",
            "Please Enter Second Number: 20\n"
          ],
          "name": "stdout"
        }
      ]
    },
    {
      "cell_type": "code",
      "metadata": {
        "id": "Vuj6Zxn2BEqX",
        "outputId": "36f04bd2-e65d-4942-cf1a-0c8b0d4b1de2",
        "colab": {
          "base_uri": "https://localhost:8080/",
          "height": 34
        }
      },
      "source": [
        "total = num1 + num2\n",
        "print(total)"
      ],
      "execution_count": null,
      "outputs": [
        {
          "output_type": "stream",
          "text": [
            "2020\n"
          ],
          "name": "stdout"
        }
      ]
    },
    {
      "cell_type": "code",
      "metadata": {
        "id": "w8k16GW3BPNz",
        "outputId": "e5c663ce-084d-4211-a33f-d6fb2fadd1de",
        "colab": {
          "base_uri": "https://localhost:8080/",
          "height": 34
        }
      },
      "source": [
        "type(total) #Python take input as a string we have to type cast the input \n"
      ],
      "execution_count": null,
      "outputs": [
        {
          "output_type": "execute_result",
          "data": {
            "text/plain": [
              "str"
            ]
          },
          "metadata": {
            "tags": []
          },
          "execution_count": 53
        }
      ]
    },
    {
      "cell_type": "code",
      "metadata": {
        "id": "JdzftTr6BWjd",
        "outputId": "809227b2-8d95-426f-bff1-b28df602e4bd",
        "colab": {
          "base_uri": "https://localhost:8080/",
          "height": 34
        }
      },
      "source": [
        "total = int(num1)+int(num2)#Type casting done from String to int\n",
        "print(total)"
      ],
      "execution_count": null,
      "outputs": [
        {
          "output_type": "stream",
          "text": [
            "40\n"
          ],
          "name": "stdout"
        }
      ]
    },
    {
      "cell_type": "markdown",
      "metadata": {
        "id": "2ga-H7edCHWn"
      },
      "source": [
        "# Getting an Integer from the User by casting the input format"
      ]
    },
    {
      "cell_type": "code",
      "metadata": {
        "id": "3bWvA3QgBtdi",
        "outputId": "c5dfd0e3-87c8-47c4-d796-66d95a9043c2",
        "colab": {
          "base_uri": "https://localhost:8080/",
          "height": 34
        }
      },
      "source": [
        "another_value = int(input('Enter another integer: '))\n"
      ],
      "execution_count": null,
      "outputs": [
        {
          "output_type": "stream",
          "text": [
            "Enter another integer: 10\n"
          ],
          "name": "stdout"
        }
      ]
    },
    {
      "cell_type": "code",
      "metadata": {
        "id": "3QUEot8nCb07",
        "outputId": "e56dfda3-5068-4ea4-eb65-66573684bb83",
        "colab": {
          "base_uri": "https://localhost:8080/",
          "height": 34
        }
      },
      "source": [
        "print(another_value)"
      ],
      "execution_count": null,
      "outputs": [
        {
          "output_type": "stream",
          "text": [
            "10\n"
          ],
          "name": "stdout"
        }
      ]
    },
    {
      "cell_type": "markdown",
      "metadata": {
        "id": "wvePZGcVCn30"
      },
      "source": [
        "\n",
        " **Taking multiple input from the user**"
      ]
    },
    {
      "cell_type": "code",
      "metadata": {
        "id": "36fzq2HWCjFQ",
        "outputId": "978ddd6e-8895-425c-9147-9f1fddb7cb30",
        "colab": {
          "base_uri": "https://localhost:8080/",
          "height": 34
        }
      },
      "source": [
        "a, b = input().split()"
      ],
      "execution_count": null,
      "outputs": [
        {
          "output_type": "stream",
          "text": [
            "3 4\n"
          ],
          "name": "stdout"
        }
      ]
    },
    {
      "cell_type": "code",
      "metadata": {
        "id": "_08O_wv1Cww7",
        "outputId": "40a3fbf1-4da8-4b4e-a1bd-a62afb3cce35",
        "colab": {
          "base_uri": "https://localhost:8080/",
          "height": 34
        }
      },
      "source": [
        "print(a,b)"
      ],
      "execution_count": null,
      "outputs": [
        {
          "output_type": "stream",
          "text": [
            "3 4\n"
          ],
          "name": "stdout"
        }
      ]
    },
    {
      "cell_type": "code",
      "metadata": {
        "id": "sqAA5uBQDmPI",
        "outputId": "37207e03-f577-42f1-e56b-fd6ed04662f5",
        "colab": {
          "base_uri": "https://localhost:8080/",
          "height": 34
        }
      },
      "source": [
        "type(a)"
      ],
      "execution_count": null,
      "outputs": [
        {
          "output_type": "execute_result",
          "data": {
            "text/plain": [
              "str"
            ]
          },
          "metadata": {
            "tags": []
          },
          "execution_count": 63
        }
      ]
    },
    {
      "cell_type": "code",
      "metadata": {
        "id": "Ow0PqnEdDqwz",
        "outputId": "9aa5477e-32cd-49de-ce6d-0758a263f4c4",
        "colab": {
          "base_uri": "https://localhost:8080/",
          "height": 34
        }
      },
      "source": [
        "print(type(b))"
      ],
      "execution_count": null,
      "outputs": [
        {
          "output_type": "stream",
          "text": [
            "<class 'str'>\n"
          ],
          "name": "stdout"
        }
      ]
    },
    {
      "cell_type": "code",
      "metadata": {
        "id": "5qs1m4bvDt-T",
        "outputId": "bcfbd8e1-3fef-4b20-d679-75b35c16fd76",
        "colab": {
          "base_uri": "https://localhost:8080/",
          "height": 34
        }
      },
      "source": [
        "a,b,c,d,e = input().split() #Using split we can take multiple input from user"
      ],
      "execution_count": null,
      "outputs": [
        {
          "output_type": "stream",
          "text": [
            "2 3 4 5 5\n"
          ],
          "name": "stdout"
        }
      ]
    },
    {
      "cell_type": "code",
      "metadata": {
        "id": "HBryhb46D_7L",
        "outputId": "d2623e77-3265-4455-c178-5012fcb93f33",
        "colab": {
          "base_uri": "https://localhost:8080/",
          "height": 34
        }
      },
      "source": [
        "print(a,b,c,d,e)"
      ],
      "execution_count": null,
      "outputs": [
        {
          "output_type": "stream",
          "text": [
            "2 3 4 5 5\n"
          ],
          "name": "stdout"
        }
      ]
    },
    {
      "cell_type": "markdown",
      "metadata": {
        "id": "CTZT6XP4E1Xy"
      },
      "source": [
        "# Solving Problem\n",
        "**Determining the Minimum and Maximum with Built-In Functions min and max**"
      ]
    },
    {
      "cell_type": "code",
      "metadata": {
        "id": "FVYjPtoBEO3T",
        "outputId": "bc6fd52d-3c47-4df3-cbfe-353831e00493",
        "colab": {
          "base_uri": "https://localhost:8080/",
          "height": 67
        }
      },
      "source": [
        "number1 = int(input('Enter First Integer: '))\n",
        "number2 = int(input(\"Enter Second Integer: \"))\n",
        "number3 = int(input('Enter third Integer: '))\n",
        "\n"
      ],
      "execution_count": null,
      "outputs": [
        {
          "output_type": "stream",
          "text": [
            "Enter First Integer: 2\n",
            "Enter Second Integer: 7\n",
            "Enter third Integer: 4\n"
          ],
          "name": "stdout"
        }
      ]
    },
    {
      "cell_type": "code",
      "metadata": {
        "id": "qq2v0V5MF2r9",
        "outputId": "cc7cc769-4cca-404e-c1d7-e65af93229c3",
        "colab": {
          "base_uri": "https://localhost:8080/",
          "height": 34
        }
      },
      "source": [
        "max(number1,number2,number3)"
      ],
      "execution_count": null,
      "outputs": [
        {
          "output_type": "execute_result",
          "data": {
            "text/plain": [
              "7"
            ]
          },
          "metadata": {
            "tags": []
          },
          "execution_count": 72
        }
      ]
    },
    {
      "cell_type": "code",
      "metadata": {
        "id": "2ZvXOM7UGk0Q",
        "outputId": "96990901-7d91-48db-f78e-20590d4df03d",
        "colab": {
          "base_uri": "https://localhost:8080/",
          "height": 34
        }
      },
      "source": [
        "min(number1,number2,number3)"
      ],
      "execution_count": null,
      "outputs": [
        {
          "output_type": "execute_result",
          "data": {
            "text/plain": [
              "2"
            ]
          },
          "metadata": {
            "tags": []
          },
          "execution_count": 74
        }
      ]
    },
    {
      "cell_type": "markdown",
      "metadata": {
        "id": "DuCBb1QLGr9w"
      },
      "source": [
        "# Exercises\n",
        "**Create the variables x = 2 and y = 3, then determine what each of the following statements displays:**\n",
        "\n",
        "\n",
        "\n",
        "*   print('x =', x)\n",
        "*   print('Value of', x, '+', x, 'is', (x + x))\n",
        "*   print('x =')\n",
        "*   print((x + y), '=', (y + x))\n",
        "\n",
        "\n",
        "\n",
        "\n",
        "\n",
        "\n"
      ]
    },
    {
      "cell_type": "code",
      "metadata": {
        "id": "tx6sD89GHOty"
      },
      "source": [
        "x = 2\n",
        "y = 3\n"
      ],
      "execution_count": null,
      "outputs": []
    },
    {
      "cell_type": "code",
      "metadata": {
        "id": "pchw5OBAH43B",
        "outputId": "99d1991d-8433-44ea-dad6-23c02d9344b0",
        "colab": {
          "base_uri": "https://localhost:8080/",
          "height": 34
        }
      },
      "source": [
        "print('X =',x)\n"
      ],
      "execution_count": null,
      "outputs": [
        {
          "output_type": "stream",
          "text": [
            "X = 2\n"
          ],
          "name": "stdout"
        }
      ]
    },
    {
      "cell_type": "code",
      "metadata": {
        "id": "O-GrJO9FIA6G",
        "outputId": "32fbb4ae-f60a-449d-e346-c4232a99ad27",
        "colab": {
          "base_uri": "https://localhost:8080/",
          "height": 34
        }
      },
      "source": [
        "print('Value of', x, '+', x, 'is', (x + x))"
      ],
      "execution_count": null,
      "outputs": [
        {
          "output_type": "stream",
          "text": [
            "Value of 2 + 2 is 4\n"
          ],
          "name": "stdout"
        }
      ]
    },
    {
      "cell_type": "code",
      "metadata": {
        "id": "8FNVcQtcIWPs",
        "outputId": "7235a66b-c3f4-4df1-d101-200cdc174c57",
        "colab": {
          "base_uri": "https://localhost:8080/",
          "height": 34
        }
      },
      "source": [
        "print('x =')"
      ],
      "execution_count": null,
      "outputs": [
        {
          "output_type": "stream",
          "text": [
            "x =\n"
          ],
          "name": "stdout"
        }
      ]
    },
    {
      "cell_type": "code",
      "metadata": {
        "id": "yvbUwxOYI8O0",
        "outputId": "35eca25d-9ba1-4f05-eaed-65f1df332e85",
        "colab": {
          "base_uri": "https://localhost:8080/",
          "height": 34
        }
      },
      "source": [
        "print((x + y), '=', (y + x))"
      ],
      "execution_count": null,
      "outputs": [
        {
          "output_type": "stream",
          "text": [
            "5 = 5\n"
          ],
          "name": "stdout"
        }
      ]
    },
    {
      "cell_type": "code",
      "metadata": {
        "id": "PJwasQJaJBal"
      },
      "source": [
        ""
      ],
      "execution_count": null,
      "outputs": []
    }
  ]
}